{
  "nbformat": 4,
  "nbformat_minor": 0,
  "metadata": {
    "colab": {
      "provenance": [],
      "include_colab_link": true
    },
    "kernelspec": {
      "name": "python3",
      "display_name": "Python 3"
    },
    "language_info": {
      "name": "python"
    }
  },
  "cells": [
    {
      "cell_type": "markdown",
      "metadata": {
        "id": "view-in-github",
        "colab_type": "text"
      },
      "source": [
        "<a href=\"https://colab.research.google.com/github/Balasai6567/NLP-/blob/main/exp_2_stemming_and_lemmatization.ipynb\" target=\"_parent\"><img src=\"https://colab.research.google.com/assets/colab-badge.svg\" alt=\"Open In Colab\"/></a>"
      ]
    },
    {
      "cell_type": "code",
      "execution_count": 1,
      "metadata": {
        "id": "xZu_r9qAFqkF"
      },
      "outputs": [],
      "source": [
        "from nltk.stem import PorterStemmer as ps\n",
        "from nltk.stem import LancasterStemmer as ls\n",
        "from nltk.stem import RegexpStemmer as rxs\n",
        "from nltk.stem import SnowballStemmer as sbs"
      ]
    },
    {
      "cell_type": "code",
      "source": [
        "from nltk.stem import PorterStemmer\n",
        "\n",
        "porter = PorterStemmer()\n",
        "words = ['cats', 'running', 'countries', 'happily']\n",
        "stemmed = [porter.stem(word) for word in words]\n",
        "\n",
        "print('\\033[1mOriginal words:\\033[0m', words)\n",
        "print('\\nPorter Stemmer words:', stemmed)\n"
      ],
      "metadata": {
        "colab": {
          "base_uri": "https://localhost:8080/"
        },
        "id": "GcOnlyNMFvDc",
        "outputId": "50ff0fc8-2ef5-4f7f-a1ad-91c4467a6329"
      },
      "execution_count": 6,
      "outputs": [
        {
          "output_type": "stream",
          "name": "stdout",
          "text": [
            "\u001b[1mOriginal words:\u001b[0m ['cats', 'running', 'countries', 'happily']\n",
            "\n",
            "Porter Stemmer words: ['cat', 'run', 'countri', 'happili']\n"
          ]
        }
      ]
    },
    {
      "cell_type": "code",
      "source": [
        "#lancerterstemmer\n",
        "stemmed=[ls().stem(word) for word in words]\n",
        "print(\"lancaster stemmed words:\",stemmed)"
      ],
      "metadata": {
        "colab": {
          "base_uri": "https://localhost:8080/"
        },
        "id": "dQY4aaOBGFbg",
        "outputId": "9e7658d6-2905-4014-faea-8bc749d165cd"
      },
      "execution_count": 7,
      "outputs": [
        {
          "output_type": "stream",
          "name": "stdout",
          "text": [
            "lancaster stemmed words: ['cat', 'run', 'country', 'happy']\n"
          ]
        }
      ]
    },
    {
      "cell_type": "code",
      "source": [
        "#regexpStemmer\n",
        "stemmed=[rxs('ing$|s$|ly$').stem(word) for word in words]\n",
        "print('regexp Stemmed words:',stemmed)"
      ],
      "metadata": {
        "colab": {
          "base_uri": "https://localhost:8080/"
        },
        "id": "5DVw4LWBGFd8",
        "outputId": "fb56eeb2-f70a-4e73-dc1f-369b1875a7ab"
      },
      "execution_count": 8,
      "outputs": [
        {
          "output_type": "stream",
          "name": "stdout",
          "text": [
            "regexp Stemmed words: ['cat', 'runn', 'countrie', 'happi']\n"
          ]
        }
      ]
    },
    {
      "cell_type": "code",
      "source": [
        "#snowball stemmer\n",
        "stemmed=[sbs('english').stem(word) for word in words]\n",
        "print('snowfall stemmed words:',stemmed)"
      ],
      "metadata": {
        "colab": {
          "base_uri": "https://localhost:8080/"
        },
        "id": "PKtS0x6GGFhJ",
        "outputId": "5a63ba34-67bf-42fe-dc3c-0a96d865ebab"
      },
      "execution_count": 9,
      "outputs": [
        {
          "output_type": "stream",
          "name": "stdout",
          "text": [
            "snowfall stemmed words: ['cat', 'run', 'countri', 'happili']\n"
          ]
        }
      ]
    },
    {
      "cell_type": "code",
      "source": [
        "#Lemmatization\n",
        "from nltk.stem import WordNetLemmatizer as wl"
      ],
      "metadata": {
        "id": "XTOp_l9yGLcG"
      },
      "execution_count": 10,
      "outputs": []
    },
    {
      "cell_type": "code",
      "source": [
        "import nltk\n",
        "nltk.download('wordnet')"
      ],
      "metadata": {
        "colab": {
          "base_uri": "https://localhost:8080/"
        },
        "id": "XAmaZZvuGRxh",
        "outputId": "cb7be57b-1264-462b-b128-7822c1826a28"
      },
      "execution_count": 11,
      "outputs": [
        {
          "output_type": "stream",
          "name": "stderr",
          "text": [
            "[nltk_data] Downloading package wordnet to /root/nltk_data...\n"
          ]
        },
        {
          "output_type": "execute_result",
          "data": {
            "text/plain": [
              "True"
            ]
          },
          "metadata": {},
          "execution_count": 11
        }
      ]
    },
    {
      "cell_type": "code",
      "source": [
        "\n",
        "wl().lemmatize('reading')\n"
      ],
      "metadata": {
        "colab": {
          "base_uri": "https://localhost:8080/",
          "height": 36
        },
        "id": "aE9yAtBOGLes",
        "outputId": "41daff6a-75f6-4976-997c-169c60bf4d02"
      },
      "execution_count": 12,
      "outputs": [
        {
          "output_type": "execute_result",
          "data": {
            "text/plain": [
              "'reading'"
            ],
            "application/vnd.google.colaboratory.intrinsic+json": {
              "type": "string"
            }
          },
          "metadata": {},
          "execution_count": 12
        }
      ]
    },
    {
      "cell_type": "code",
      "source": [
        "wl().lemmatize('sweets')"
      ],
      "metadata": {
        "colab": {
          "base_uri": "https://localhost:8080/",
          "height": 36
        },
        "id": "pFrEqbyYGnpS",
        "outputId": "108c36d3-32a4-488e-9329-946494f8580b"
      },
      "execution_count": 13,
      "outputs": [
        {
          "output_type": "execute_result",
          "data": {
            "text/plain": [
              "'sweet'"
            ],
            "application/vnd.google.colaboratory.intrinsic+json": {
              "type": "string"
            }
          },
          "metadata": {},
          "execution_count": 13
        }
      ]
    }
  ]
}