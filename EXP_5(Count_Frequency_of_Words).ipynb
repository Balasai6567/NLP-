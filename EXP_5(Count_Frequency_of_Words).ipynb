{
  "nbformat": 4,
  "nbformat_minor": 0,
  "metadata": {
    "colab": {
      "provenance": [],
      "authorship_tag": "ABX9TyMrJdBHMX7CerLrWBBKE/u4",
      "include_colab_link": true
    },
    "kernelspec": {
      "name": "python3",
      "display_name": "Python 3"
    },
    "language_info": {
      "name": "python"
    }
  },
  "cells": [
    {
      "cell_type": "markdown",
      "metadata": {
        "id": "view-in-github",
        "colab_type": "text"
      },
      "source": [
        "<a href=\"https://colab.research.google.com/github/Balasai6567/NLP-/blob/main/EXP_5(Count_Frequency_of_Words).ipynb\" target=\"_parent\"><img src=\"https://colab.research.google.com/assets/colab-badge.svg\" alt=\"Open In Colab\"/></a>"
      ]
    },
    {
      "cell_type": "code",
      "execution_count": 1,
      "metadata": {
        "colab": {
          "base_uri": "https://localhost:8080/"
        },
        "id": "BgVYNrKeTBcz",
        "outputId": "c71c5d95-7fce-497b-f314-8d27e20f2e6c"
      },
      "outputs": [
        {
          "output_type": "stream",
          "name": "stdout",
          "text": [
            "Please enter some text: This is a sample text. It contains some sample words for testing the word count functionality.\n",
            "this: 1\n",
            "is: 1\n",
            "a: 1\n",
            "sample: 2\n",
            "text: 1\n",
            "it: 1\n",
            "contains: 1\n",
            "some: 1\n",
            "words: 1\n",
            "for: 1\n",
            "testing: 1\n",
            "the: 1\n",
            "word: 1\n",
            "count: 1\n",
            "functionality: 1\n"
          ]
        }
      ],
      "source": [
        "import re\n",
        "from collections import Counter\n",
        "\n",
        "\n",
        "def tokenize_text(text):\n",
        "    # Use regex to tokenize the text into words\n",
        "    words = re.findall(r'\\b\\w+\\b', text.lower())\n",
        "    return words\n",
        "\n",
        "\n",
        "def count_words(words):\n",
        "    # Use Counter to count occurrences of each word\n",
        "    word_count = Counter(words)\n",
        "    return word_count\n",
        "\n",
        "\n",
        "def main():\n",
        "    input_text = input(\"Please enter some text: \")\n",
        "\n",
        "    # Tokenize the input text\n",
        "    words = tokenize_text(input_text)\n",
        "\n",
        "    # Count occurrences of each word\n",
        "    word_count = count_words(words)\n",
        "\n",
        "    # Print the word counts\n",
        "    for word, count in word_count.items():\n",
        "        print(f'{word}: {count}')\n",
        "\n",
        "\n",
        "if __name__ == \"__main__\":\n",
        "    main()\n"
      ]
    }
  ]
}