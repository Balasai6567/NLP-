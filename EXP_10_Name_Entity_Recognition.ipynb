{
  "nbformat": 4,
  "nbformat_minor": 0,
  "metadata": {
    "colab": {
      "provenance": [],
      "authorship_tag": "ABX9TyN2u6jLGgORdYLbvN5fgm4B",
      "include_colab_link": true
    },
    "kernelspec": {
      "name": "python3",
      "display_name": "Python 3"
    },
    "language_info": {
      "name": "python"
    }
  },
  "cells": [
    {
      "cell_type": "markdown",
      "metadata": {
        "id": "view-in-github",
        "colab_type": "text"
      },
      "source": [
        "<a href=\"https://colab.research.google.com/github/Balasai6567/NLP-/blob/main/EXP_10_Name_Entity_Recognition.ipynb\" target=\"_parent\"><img src=\"https://colab.research.google.com/assets/colab-badge.svg\" alt=\"Open In Colab\"/></a>"
      ]
    },
    {
      "cell_type": "code",
      "execution_count": 1,
      "metadata": {
        "id": "TTdMhHb7heAt"
      },
      "outputs": [],
      "source": [
        "import nltk\n",
        "from nltk.corpus import stopwords\n",
        "from nltk.tokenize import word_tokenize\n",
        "from nltk.stem import PorterStemmer, WordNetLemmatizer\n",
        "from nltk import ne_chunk"
      ]
    },
    {
      "cell_type": "code",
      "source": [
        "nltk.download('punkt')\n",
        "nltk.download('wordnet')\n",
        "nltk.download('stopwords')\n",
        "nltk.download('averaged_perceptron_tagger')\n",
        "nltk.download('maxent_ne_chunker')\n",
        "nltk.download('words')"
      ],
      "metadata": {
        "colab": {
          "base_uri": "https://localhost:8080/"
        },
        "id": "OQ3rgxlOhfHI",
        "outputId": "54100607-2373-4389-b5a9-88f922f7b77e"
      },
      "execution_count": 2,
      "outputs": [
        {
          "output_type": "stream",
          "name": "stderr",
          "text": [
            "[nltk_data] Downloading package punkt to /root/nltk_data...\n",
            "[nltk_data]   Unzipping tokenizers/punkt.zip.\n",
            "[nltk_data] Downloading package wordnet to /root/nltk_data...\n",
            "[nltk_data] Downloading package stopwords to /root/nltk_data...\n",
            "[nltk_data]   Unzipping corpora/stopwords.zip.\n",
            "[nltk_data] Downloading package averaged_perceptron_tagger to\n",
            "[nltk_data]     /root/nltk_data...\n",
            "[nltk_data]   Unzipping taggers/averaged_perceptron_tagger.zip.\n",
            "[nltk_data] Downloading package maxent_ne_chunker to\n",
            "[nltk_data]     /root/nltk_data...\n",
            "[nltk_data]   Unzipping chunkers/maxent_ne_chunker.zip.\n",
            "[nltk_data] Downloading package words to /root/nltk_data...\n",
            "[nltk_data]   Unzipping corpora/words.zip.\n"
          ]
        },
        {
          "output_type": "execute_result",
          "data": {
            "text/plain": [
              "True"
            ]
          },
          "metadata": {},
          "execution_count": 2
        }
      ]
    },
    {
      "cell_type": "code",
      "source": [
        "text = \"\"\"\n",
        "In a galaxy far, far away, there were two warring factions known as the Jedi and the Sith.\n",
        "The Jedi were peacekeepers who wielded the power of the Force for good, while the Sith\n",
        "were dark warriors who sought power and domination. For centuries, the Jedi Order maintained\n",
        "balance and harmony in the galaxy, but their numbers dwindled as the Sith grew in strength.\n",
        "Anakin Skywalker, a young Jedi Knight, was seduced by the dark side of the Force and became\n",
        "Darth Vader, a ruthless enforcer for the Sith. The fate of the galaxy hung in the balance as\n",
        "the Jedi fought to restore peace and defeat the Sith once and for all.\n",
        "\"\"\""
      ],
      "metadata": {
        "id": "kxdehs2Chixm"
      },
      "execution_count": 3,
      "outputs": []
    },
    {
      "cell_type": "code",
      "source": [
        "tokens = word_tokenize(text)"
      ],
      "metadata": {
        "id": "Fvb64m2yhlDn"
      },
      "execution_count": 4,
      "outputs": []
    },
    {
      "cell_type": "code",
      "source": [
        "stemmer = PorterStemmer()\n",
        "stemmed_tokens = [stemmer.stem(token) for token in tokens]"
      ],
      "metadata": {
        "id": "h1ud9CywhnoL"
      },
      "execution_count": 5,
      "outputs": []
    },
    {
      "cell_type": "code",
      "source": [
        "lemmatizer = WordNetLemmatizer()\n",
        "lemmatized_tokens = [lemmatizer.lemmatize(token) for token in tokens]\n",
        "\n",
        "stop_words = set(stopwords.words('english'))\n",
        "filtered_tokens = [token for token in tokens if token.lower() not in stop_words]\n",
        "\n",
        "pos_tags = nltk.pos_tag(tokens)\n",
        "\n",
        "ner_tags = ne_chunk(pos_tags)\n",
        "\n",
        "print(\"Tokens:\", tokens)\n",
        "print(\"Stemmed Tokens:\", stemmed_tokens)\n",
        "print(\"Lemmatized Tokens:\", lemmatized_tokens)\n",
        "print(\"Filtered Tokens:\", filtered_tokens)\n",
        "print(\"Part-of-Speech Tags:\", pos_tags)\n",
        "\n",
        "print(\"Named Entities:\")\n",
        "for chunk in ner_tags:\n",
        "    if hasattr(chunk, 'label'):\n",
        "        print(chunk.label(), ' '.join(c[0] for c in chunk))"
      ],
      "metadata": {
        "colab": {
          "base_uri": "https://localhost:8080/"
        },
        "id": "GICrYm4IhpzP",
        "outputId": "03858c11-52eb-463e-c37e-4c0960f8c53e"
      },
      "execution_count": 6,
      "outputs": [
        {
          "output_type": "stream",
          "name": "stdout",
          "text": [
            "Tokens: ['In', 'a', 'galaxy', 'far', ',', 'far', 'away', ',', 'there', 'were', 'two', 'warring', 'factions', 'known', 'as', 'the', 'Jedi', 'and', 'the', 'Sith', '.', 'The', 'Jedi', 'were', 'peacekeepers', 'who', 'wielded', 'the', 'power', 'of', 'the', 'Force', 'for', 'good', ',', 'while', 'the', 'Sith', 'were', 'dark', 'warriors', 'who', 'sought', 'power', 'and', 'domination', '.', 'For', 'centuries', ',', 'the', 'Jedi', 'Order', 'maintained', 'balance', 'and', 'harmony', 'in', 'the', 'galaxy', ',', 'but', 'their', 'numbers', 'dwindled', 'as', 'the', 'Sith', 'grew', 'in', 'strength', '.', 'Anakin', 'Skywalker', ',', 'a', 'young', 'Jedi', 'Knight', ',', 'was', 'seduced', 'by', 'the', 'dark', 'side', 'of', 'the', 'Force', 'and', 'became', 'Darth', 'Vader', ',', 'a', 'ruthless', 'enforcer', 'for', 'the', 'Sith', '.', 'The', 'fate', 'of', 'the', 'galaxy', 'hung', 'in', 'the', 'balance', 'as', 'the', 'Jedi', 'fought', 'to', 'restore', 'peace', 'and', 'defeat', 'the', 'Sith', 'once', 'and', 'for', 'all', '.']\n",
            "Stemmed Tokens: ['in', 'a', 'galaxi', 'far', ',', 'far', 'away', ',', 'there', 'were', 'two', 'war', 'faction', 'known', 'as', 'the', 'jedi', 'and', 'the', 'sith', '.', 'the', 'jedi', 'were', 'peacekeep', 'who', 'wield', 'the', 'power', 'of', 'the', 'forc', 'for', 'good', ',', 'while', 'the', 'sith', 'were', 'dark', 'warrior', 'who', 'sought', 'power', 'and', 'domin', '.', 'for', 'centuri', ',', 'the', 'jedi', 'order', 'maintain', 'balanc', 'and', 'harmoni', 'in', 'the', 'galaxi', ',', 'but', 'their', 'number', 'dwindl', 'as', 'the', 'sith', 'grew', 'in', 'strength', '.', 'anakin', 'skywalk', ',', 'a', 'young', 'jedi', 'knight', ',', 'wa', 'seduc', 'by', 'the', 'dark', 'side', 'of', 'the', 'forc', 'and', 'becam', 'darth', 'vader', ',', 'a', 'ruthless', 'enforc', 'for', 'the', 'sith', '.', 'the', 'fate', 'of', 'the', 'galaxi', 'hung', 'in', 'the', 'balanc', 'as', 'the', 'jedi', 'fought', 'to', 'restor', 'peac', 'and', 'defeat', 'the', 'sith', 'onc', 'and', 'for', 'all', '.']\n",
            "Lemmatized Tokens: ['In', 'a', 'galaxy', 'far', ',', 'far', 'away', ',', 'there', 'were', 'two', 'warring', 'faction', 'known', 'a', 'the', 'Jedi', 'and', 'the', 'Sith', '.', 'The', 'Jedi', 'were', 'peacekeeper', 'who', 'wielded', 'the', 'power', 'of', 'the', 'Force', 'for', 'good', ',', 'while', 'the', 'Sith', 'were', 'dark', 'warrior', 'who', 'sought', 'power', 'and', 'domination', '.', 'For', 'century', ',', 'the', 'Jedi', 'Order', 'maintained', 'balance', 'and', 'harmony', 'in', 'the', 'galaxy', ',', 'but', 'their', 'number', 'dwindled', 'a', 'the', 'Sith', 'grew', 'in', 'strength', '.', 'Anakin', 'Skywalker', ',', 'a', 'young', 'Jedi', 'Knight', ',', 'wa', 'seduced', 'by', 'the', 'dark', 'side', 'of', 'the', 'Force', 'and', 'became', 'Darth', 'Vader', ',', 'a', 'ruthless', 'enforcer', 'for', 'the', 'Sith', '.', 'The', 'fate', 'of', 'the', 'galaxy', 'hung', 'in', 'the', 'balance', 'a', 'the', 'Jedi', 'fought', 'to', 'restore', 'peace', 'and', 'defeat', 'the', 'Sith', 'once', 'and', 'for', 'all', '.']\n",
            "Filtered Tokens: ['galaxy', 'far', ',', 'far', 'away', ',', 'two', 'warring', 'factions', 'known', 'Jedi', 'Sith', '.', 'Jedi', 'peacekeepers', 'wielded', 'power', 'Force', 'good', ',', 'Sith', 'dark', 'warriors', 'sought', 'power', 'domination', '.', 'centuries', ',', 'Jedi', 'Order', 'maintained', 'balance', 'harmony', 'galaxy', ',', 'numbers', 'dwindled', 'Sith', 'grew', 'strength', '.', 'Anakin', 'Skywalker', ',', 'young', 'Jedi', 'Knight', ',', 'seduced', 'dark', 'side', 'Force', 'became', 'Darth', 'Vader', ',', 'ruthless', 'enforcer', 'Sith', '.', 'fate', 'galaxy', 'hung', 'balance', 'Jedi', 'fought', 'restore', 'peace', 'defeat', 'Sith', '.']\n",
            "Part-of-Speech Tags: [('In', 'IN'), ('a', 'DT'), ('galaxy', 'NN'), ('far', 'RB'), (',', ','), ('far', 'RB'), ('away', 'RB'), (',', ','), ('there', 'EX'), ('were', 'VBD'), ('two', 'CD'), ('warring', 'JJ'), ('factions', 'NNS'), ('known', 'VBN'), ('as', 'IN'), ('the', 'DT'), ('Jedi', 'NNP'), ('and', 'CC'), ('the', 'DT'), ('Sith', 'NNP'), ('.', '.'), ('The', 'DT'), ('Jedi', 'NNPS'), ('were', 'VBD'), ('peacekeepers', 'NNS'), ('who', 'WP'), ('wielded', 'VBD'), ('the', 'DT'), ('power', 'NN'), ('of', 'IN'), ('the', 'DT'), ('Force', 'NNP'), ('for', 'IN'), ('good', 'JJ'), (',', ','), ('while', 'IN'), ('the', 'DT'), ('Sith', 'NNP'), ('were', 'VBD'), ('dark', 'JJ'), ('warriors', 'NNS'), ('who', 'WP'), ('sought', 'VBD'), ('power', 'NN'), ('and', 'CC'), ('domination', 'NN'), ('.', '.'), ('For', 'IN'), ('centuries', 'NNS'), (',', ','), ('the', 'DT'), ('Jedi', 'NNP'), ('Order', 'NNP'), ('maintained', 'VBD'), ('balance', 'NN'), ('and', 'CC'), ('harmony', 'NN'), ('in', 'IN'), ('the', 'DT'), ('galaxy', 'NN'), (',', ','), ('but', 'CC'), ('their', 'PRP$'), ('numbers', 'NNS'), ('dwindled', 'VBN'), ('as', 'IN'), ('the', 'DT'), ('Sith', 'NNP'), ('grew', 'VBD'), ('in', 'IN'), ('strength', 'NN'), ('.', '.'), ('Anakin', 'NNP'), ('Skywalker', 'NNP'), (',', ','), ('a', 'DT'), ('young', 'JJ'), ('Jedi', 'NNP'), ('Knight', 'NNP'), (',', ','), ('was', 'VBD'), ('seduced', 'VBN'), ('by', 'IN'), ('the', 'DT'), ('dark', 'JJ'), ('side', 'NN'), ('of', 'IN'), ('the', 'DT'), ('Force', 'NNP'), ('and', 'CC'), ('became', 'VBD'), ('Darth', 'NNP'), ('Vader', 'NNP'), (',', ','), ('a', 'DT'), ('ruthless', 'NN'), ('enforcer', 'NN'), ('for', 'IN'), ('the', 'DT'), ('Sith', 'NNP'), ('.', '.'), ('The', 'DT'), ('fate', 'NN'), ('of', 'IN'), ('the', 'DT'), ('galaxy', 'NN'), ('hung', 'NN'), ('in', 'IN'), ('the', 'DT'), ('balance', 'NN'), ('as', 'IN'), ('the', 'DT'), ('Jedi', 'NNP'), ('fought', 'NN'), ('to', 'TO'), ('restore', 'VB'), ('peace', 'NN'), ('and', 'CC'), ('defeat', 'VB'), ('the', 'DT'), ('Sith', 'NNP'), ('once', 'RB'), ('and', 'CC'), ('for', 'IN'), ('all', 'DT'), ('.', '.')]\n",
            "Named Entities:\n",
            "ORGANIZATION Jedi\n",
            "ORGANIZATION Sith\n",
            "ORGANIZATION Jedi\n",
            "ORGANIZATION Force\n",
            "ORGANIZATION Sith\n",
            "ORGANIZATION Jedi Order\n",
            "ORGANIZATION Sith\n",
            "PERSON Anakin Skywalker\n",
            "PERSON Jedi Knight\n",
            "ORGANIZATION Force\n",
            "PERSON Darth Vader\n",
            "ORGANIZATION Sith\n",
            "ORGANIZATION Jedi\n",
            "ORGANIZATION Sith\n"
          ]
        }
      ]
    }
  ]
}