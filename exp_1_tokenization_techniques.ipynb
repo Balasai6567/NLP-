{
  "nbformat": 4,
  "nbformat_minor": 0,
  "metadata": {
    "colab": {
      "provenance": [],
      "authorship_tag": "ABX9TyMJWZITpaC5b8TgxDX2K++v",
      "include_colab_link": true
    },
    "kernelspec": {
      "name": "python3",
      "display_name": "Python 3"
    },
    "language_info": {
      "name": "python"
    }
  },
  "cells": [
    {
      "cell_type": "markdown",
      "metadata": {
        "id": "view-in-github",
        "colab_type": "text"
      },
      "source": [
        "<a href=\"https://colab.research.google.com/github/Balasai6567/NLP-/blob/main/exp_1_tokenization_techniques.ipynb\" target=\"_parent\"><img src=\"https://colab.research.google.com/assets/colab-badge.svg\" alt=\"Open In Colab\"/></a>"
      ]
    },
    {
      "cell_type": "code",
      "execution_count": 1,
      "metadata": {
        "id": "OEpSCyValBZx"
      },
      "outputs": [],
      "source": [
        "import nltk"
      ]
    },
    {
      "cell_type": "code",
      "source": [
        "nltk.download('punkt')"
      ],
      "metadata": {
        "colab": {
          "base_uri": "https://localhost:8080/"
        },
        "id": "-AoEu7WAlWKA",
        "outputId": "367ada4d-3c30-4834-ab2e-9bc5894c63ea"
      },
      "execution_count": 2,
      "outputs": [
        {
          "output_type": "stream",
          "name": "stderr",
          "text": [
            "[nltk_data] Downloading package punkt to /root/nltk_data...\n",
            "[nltk_data]   Unzipping tokenizers/punkt.zip.\n"
          ]
        },
        {
          "output_type": "execute_result",
          "data": {
            "text/plain": [
              "True"
            ]
          },
          "metadata": {},
          "execution_count": 2
        }
      ]
    },
    {
      "cell_type": "code",
      "source": [
        "from nltk import word_tokenize"
      ],
      "metadata": {
        "id": "SmLgiEE9lWVW"
      },
      "execution_count": 3,
      "outputs": []
    },
    {
      "cell_type": "code",
      "source": [
        "s='Feeling blessed today.'\n",
        "\n",
        "word_tokenize(s)"
      ],
      "metadata": {
        "colab": {
          "base_uri": "https://localhost:8080/"
        },
        "id": "cUhi1Os8lWYM",
        "outputId": "4c7db9c3-56b9-4f68-fc91-e3dc6637d64f"
      },
      "execution_count": 4,
      "outputs": [
        {
          "output_type": "execute_result",
          "data": {
            "text/plain": [
              "['Feeling', 'blessed', 'today', '.']"
            ]
          },
          "metadata": {},
          "execution_count": 4
        }
      ]
    },
    {
      "cell_type": "code",
      "source": [
        "sentence=\"At eight o'clock!!! On Thursday morning and Arthur didn't feel very good. and is ill now. \"\n",
        "token=nltk.word_tokenize(sentence)\n",
        "print(token)"
      ],
      "metadata": {
        "colab": {
          "base_uri": "https://localhost:8080/"
        },
        "id": "oshbrnJklWa-",
        "outputId": "c9fd3fcb-bf46-43da-f9b8-7c665c02d79c"
      },
      "execution_count": 5,
      "outputs": [
        {
          "output_type": "stream",
          "name": "stdout",
          "text": [
            "['At', 'eight', \"o'clock\", '!', '!', '!', 'On', 'Thursday', 'morning', 'and', 'Arthur', 'did', \"n't\", 'feel', 'very', 'good', '.', 'and', 'is', 'ill', 'now', '.']\n"
          ]
        }
      ]
    },
    {
      "cell_type": "code",
      "source": [
        "from nltk import sent_tokenize"
      ],
      "metadata": {
        "id": "UbAb8euOlWdI"
      },
      "execution_count": 6,
      "outputs": []
    },
    {
      "cell_type": "code",
      "source": [
        "sent_tokenize(sentence)"
      ],
      "metadata": {
        "colab": {
          "base_uri": "https://localhost:8080/"
        },
        "id": "BgYjunxnlWgi",
        "outputId": "6f349cd2-98a2-40a5-f076-a924e5aba4f5"
      },
      "execution_count": 7,
      "outputs": [
        {
          "output_type": "execute_result",
          "data": {
            "text/plain": [
              "[\"At eight o'clock!!!\",\n",
              " \"On Thursday morning and Arthur didn't feel very good.\",\n",
              " 'and is ill now.']"
            ]
          },
          "metadata": {},
          "execution_count": 7
        }
      ]
    },
    {
      "cell_type": "code",
      "source": [
        "sent_tokenize(s)"
      ],
      "metadata": {
        "colab": {
          "base_uri": "https://localhost:8080/"
        },
        "id": "i-PiorY9mFDO",
        "outputId": "583aafaa-aeea-4ef5-83e4-ef084e2de59f"
      },
      "execution_count": 8,
      "outputs": [
        {
          "output_type": "execute_result",
          "data": {
            "text/plain": [
              "['Feeling blessed today.']"
            ]
          },
          "metadata": {},
          "execution_count": 8
        }
      ]
    },
    {
      "cell_type": "code",
      "source": [
        "from nltk import RegexpTokenizer as rxt\n",
        "tokens=rxt(\"a\", gaps=True)"
      ],
      "metadata": {
        "id": "tzabQtHxmKxh"
      },
      "execution_count": 9,
      "outputs": []
    },
    {
      "cell_type": "code",
      "source": [
        "tokens.tokenize(sentence)"
      ],
      "metadata": {
        "colab": {
          "base_uri": "https://localhost:8080/"
        },
        "id": "fCccD1_ImPCB",
        "outputId": "c54b09d5-1092-4d40-c166-00cc51444157"
      },
      "execution_count": 10,
      "outputs": [
        {
          "output_type": "execute_result",
          "data": {
            "text/plain": [
              "[\"At eight o'clock!!! On Thursd\",\n",
              " 'y morning ',\n",
              " \"nd Arthur didn't feel very good. \",\n",
              " 'nd is ill now. ']"
            ]
          },
          "metadata": {},
          "execution_count": 10
        }
      ]
    },
    {
      "cell_type": "code",
      "source": [
        "from nltk.tokenize import WordPunctTokenizer as wpt\n",
        "wpt().tokenize(sentence)"
      ],
      "metadata": {
        "colab": {
          "base_uri": "https://localhost:8080/"
        },
        "id": "N7aU6dkMmSHg",
        "outputId": "3f816683-c924-4cf9-c17a-0de8bb2289f7"
      },
      "execution_count": 11,
      "outputs": [
        {
          "output_type": "execute_result",
          "data": {
            "text/plain": [
              "['At',\n",
              " 'eight',\n",
              " 'o',\n",
              " \"'\",\n",
              " 'clock',\n",
              " '!!!',\n",
              " 'On',\n",
              " 'Thursday',\n",
              " 'morning',\n",
              " 'and',\n",
              " 'Arthur',\n",
              " 'didn',\n",
              " \"'\",\n",
              " 't',\n",
              " 'feel',\n",
              " 'very',\n",
              " 'good',\n",
              " '.',\n",
              " 'and',\n",
              " 'is',\n",
              " 'ill',\n",
              " 'now',\n",
              " '.']"
            ]
          },
          "metadata": {},
          "execution_count": 11
        }
      ]
    }
  ]
}