{
  "nbformat": 4,
  "nbformat_minor": 0,
  "metadata": {
    "colab": {
      "provenance": [],
      "authorship_tag": "ABX9TyMwq250ylH8FyV+Yu4FoMZ2",
      "include_colab_link": true
    },
    "kernelspec": {
      "name": "python3",
      "display_name": "Python 3"
    },
    "language_info": {
      "name": "python"
    }
  },
  "cells": [
    {
      "cell_type": "markdown",
      "metadata": {
        "id": "view-in-github",
        "colab_type": "text"
      },
      "source": [
        "<a href=\"https://colab.research.google.com/github/Balasai6567/NLP-/blob/main/Exp_4(Stop_Words_Removal).ipynb\" target=\"_parent\"><img src=\"https://colab.research.google.com/assets/colab-badge.svg\" alt=\"Open In Colab\"/></a>"
      ]
    },
    {
      "cell_type": "code",
      "execution_count": 1,
      "metadata": {
        "colab": {
          "base_uri": "https://localhost:8080/"
        },
        "id": "GIbvVMQJRDZx",
        "outputId": "156ba000-5b84-4790-ad6d-dc087178f2b8"
      },
      "outputs": [
        {
          "output_type": "stream",
          "name": "stderr",
          "text": [
            "[nltk_data] Downloading package stopwords to /root/nltk_data...\n",
            "[nltk_data]   Unzipping corpora/stopwords.zip.\n",
            "[nltk_data] Downloading package punkt to /root/nltk_data...\n",
            "[nltk_data]   Unzipping tokenizers/punkt.zip.\n"
          ]
        },
        {
          "output_type": "stream",
          "name": "stdout",
          "text": [
            "Enter some text: Hello there! This is a sample sentence containing some common English stopwords that we want to remove.\n",
            "\n",
            "Original Text:\n",
            "Hello there! This is a sample sentence containing some common English stopwords that we want to remove.\n",
            "\n",
            "Text after removing stopwords:\n",
            "Hello ! sample sentence containing common English stopwords want remove .\n"
          ]
        }
      ],
      "source": [
        "import nltk\n",
        "from nltk.corpus import stopwords\n",
        "from nltk.tokenize import word_tokenize\n",
        "\n",
        "# Download the NLTK resources\n",
        "nltk.download('stopwords')\n",
        "nltk.download('punkt')\n",
        "\n",
        "def remove_stopwords(text):\n",
        "    # Tokenize the input text into words\n",
        "    words = word_tokenize(text)\n",
        "\n",
        "    # Get the list of English stopwords\n",
        "    stop_words = set(stopwords.words('english'))\n",
        "\n",
        "    # Remove stopwords from the list of words\n",
        "    filtered_words = [word for word in words if word.lower() not in stop_words]\n",
        "\n",
        "    # Join the filtered words back into a sentence\n",
        "    filtered_text = ' '.join(filtered_words)\n",
        "\n",
        "    return filtered_text\n",
        "\n",
        "def main():\n",
        "    # Prompt the user to enter text\n",
        "    text = input(\"Enter some text: \")\n",
        "\n",
        "    # Remove stopwords from the input text\n",
        "    processed_text = remove_stopwords(text)\n",
        "\n",
        "    # Print the original and processed text\n",
        "    print(\"\\nOriginal Text:\")\n",
        "    print(text)\n",
        "    print(\"\\nText after removing stopwords:\")\n",
        "    print(processed_text)\n",
        "\n",
        "if __name__ == \"__main__\":\n",
        "    main()\n"
      ]
    }
  ]
}